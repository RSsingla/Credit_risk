{
 "cells": [
  {
   "cell_type": "code",
   "execution_count": 1,
   "metadata": {},
   "outputs": [
    {
     "data": {
      "text/plain": [
       "DeprecationWarning('ignore')"
      ]
     },
     "execution_count": 1,
     "metadata": {},
     "output_type": "execute_result"
    }
   ],
   "source": [
    "import numpy as np\n",
    "import pandas as pd\n",
    "import sys \n",
    "import os\n",
    "import matplotlib.pyplot as plt\n",
    "import warnings\n",
    "import sklearn as sk\n",
    "import seaborn as sns\n",
    "os.chdir('C:/Users/kc/Downloads')\n",
    "warnings.filterwarnings('ignore')\n",
    "DeprecationWarning('ignore')"
   ]
  },
  {
   "cell_type": "code",
   "execution_count": 2,
   "metadata": {},
   "outputs": [
    {
     "data": {
      "text/plain": [
       "['5101010311564428876.jpeg',\n",
       " 'char-rnn-master.zip',\n",
       " 'credit_risk.csv',\n",
       " 'Data_Science_Learning_Path_for_50_days__1564317632.pdf',\n",
       " 'Desktop-checkpoint.ipynb',\n",
       " 'desktop.ini',\n",
       " 'Documents - Shortcut.lnk',\n",
       " 'First_document (1).pdf',\n",
       " 'First_document.pdf',\n",
       " 'full_ANN_code (1).ipynb',\n",
       " 'MINI PROJECT SYNOPSIS.docx',\n",
       " 'noc.pdf',\n",
       " 'Recurrent Neural Networks - RNN.pptx',\n",
       " 'saumya.jpeg',\n",
       " 'shakespeare-plays.zip',\n",
       " 'smsspamcollection.zip',\n",
       " 'Windows Photo Viewer Wallpaper.jpg']"
      ]
     },
     "execution_count": 2,
     "metadata": {},
     "output_type": "execute_result"
    }
   ],
   "source": [
    "os.chdir(\"C:/Users/kc/Downloads\")\n",
    "os.getcwd()\n",
    "os.listdir()"
   ]
  },
  {
   "cell_type": "code",
   "execution_count": 3,
   "metadata": {},
   "outputs": [],
   "source": [
    "ds=pd.read_csv('credit_risk.csv', na_filter=True)"
   ]
  },
  {
   "cell_type": "code",
   "execution_count": 4,
   "metadata": {},
   "outputs": [
    {
     "name": "stdout",
     "output_type": "stream",
     "text": [
      "<class 'pandas.core.frame.DataFrame'>\n",
      "RangeIndex: 614 entries, 0 to 613\n",
      "Data columns (total 13 columns):\n",
      "Loan_ID              614 non-null object\n",
      "Gender               601 non-null object\n",
      "Married              611 non-null object\n",
      "Dependents           599 non-null object\n",
      "Education            614 non-null object\n",
      "Self_Employed        582 non-null object\n",
      "ApplicantIncome      614 non-null int64\n",
      "CoapplicantIncome    614 non-null float64\n",
      "LoanAmount           592 non-null float64\n",
      "Loan_Amount_Term     600 non-null float64\n",
      "Credit_History       564 non-null float64\n",
      "Property_Area        614 non-null object\n",
      "Loan_Status          614 non-null object\n",
      "dtypes: float64(4), int64(1), object(8)\n",
      "memory usage: 62.4+ KB\n"
     ]
    },
    {
     "data": {
      "text/plain": [
       "Loan_ID               0\n",
       "Gender               13\n",
       "Married               3\n",
       "Dependents           15\n",
       "Education             0\n",
       "Self_Employed        32\n",
       "ApplicantIncome       0\n",
       "CoapplicantIncome     0\n",
       "LoanAmount           22\n",
       "Loan_Amount_Term     14\n",
       "Credit_History       50\n",
       "Property_Area         0\n",
       "Loan_Status           0\n",
       "dtype: int64"
      ]
     },
     "execution_count": 4,
     "metadata": {},
     "output_type": "execute_result"
    }
   ],
   "source": [
    "ds.shape\n",
    "ds.columns\n",
    "ds.info()\n",
    "ds.size\n",
    "ds.tail()\n",
    "ds.sample(3)\n",
    "ds.describe()\n",
    "ds.isnull().sum()"
   ]
  },
  {
   "cell_type": "code",
   "execution_count": 5,
   "metadata": {},
   "outputs": [],
   "source": [
    "def fill_Gender(ds):\n",
    "    ds.Gender.fillna('Male', inplace=True)\n",
    "    return ds\n",
    "def fill_Married(ds):\n",
    "    ds.Married.fillna('Yes', inplace=True)\n",
    "    return ds\n",
    "def fill_Dependents(ds):\n",
    "    ds.Dependents.fillna('0.0', inplace=True)\n",
    "    return ds\n",
    "def fill_Self_Employed(ds):\n",
    "    ds.Self_Employed.fillna('No', inplace=True)\n",
    "    return ds\n",
    "def fill_LoanAmount(ds):\n",
    "    ds.LoanAmount.fillna(128.0, inplace=True)\n",
    "    return ds\n",
    "def fill_Loan_Amount_Term(ds):\n",
    "    ds.Loan_Amount_Term.fillna(360.0, inplace=True)\n",
    "    return ds\n",
    "def fill_Credit_History(ds):\n",
    "    ds.Credit_History.fillna(1.0, inplace=True)\n",
    "    return ds\n",
    "def drop_features(ds):\n",
    "    ds=ds.drop(['Loan_ID'], axis=1)\n",
    "    return ds\n"
   ]
  },
  {
   "cell_type": "code",
   "execution_count": 6,
   "metadata": {},
   "outputs": [],
   "source": [
    "def encode_label(ds):\n",
    "    from sklearn.preprocessing import LabelEncoder\n",
    "    label=LabelEncoder()\n",
    "    ds['Dependents']=label.fit_transform(ds['Dependents'])\n",
    "    ds['Married']=label.fit_transform(ds['Married'])\n",
    "    ds['Gender']=label.fit_transform(ds['Gender'])\n",
    "    ds['Credit_History']=label.fit_transform(ds['Credit_History'])\n",
    "    ds['Property_Area']=label.fit_transform(ds['Property_Area'])\n",
    "    ds['Self_Employed']=label.fit_transform(ds['Self_Employed'])\n",
    "    ds['Education']=label.fit_transform(ds['Education'])\n",
    "    return ds\n",
    "\n",
    "def encoding_features(ds):\n",
    "    ds=fill_Gender(ds)\n",
    "    ds=fill_Married(ds)\n",
    "    ds=fill_Dependents(ds)\n",
    "    ds=fill_Self_Employed(ds)\n",
    "    ds=fill_LoanAmount(ds)\n",
    "    ds=fill_Loan_Amount_Term(ds)\n",
    "    ds=fill_Credit_History(ds)\n",
    "    ds=drop_features(ds)\n",
    "    ds=encode_label(ds)\n",
    "    return ds\n"
   ]
  },
  {
   "cell_type": "code",
   "execution_count": 7,
   "metadata": {},
   "outputs": [
    {
     "data": {
      "text/plain": [
       "Loan_ID               0\n",
       "Gender               13\n",
       "Married               3\n",
       "Dependents           15\n",
       "Education             0\n",
       "Self_Employed        32\n",
       "ApplicantIncome       0\n",
       "CoapplicantIncome     0\n",
       "LoanAmount           22\n",
       "Loan_Amount_Term     14\n",
       "Credit_History       50\n",
       "Property_Area         0\n",
       "Loan_Status           0\n",
       "dtype: int64"
      ]
     },
     "execution_count": 7,
     "metadata": {},
     "output_type": "execute_result"
    }
   ],
   "source": [
    "ds.isnull().sum()"
   ]
  },
  {
   "cell_type": "code",
   "execution_count": 8,
   "metadata": {},
   "outputs": [],
   "source": [
    "ds=fill_Married(ds)"
   ]
  },
  {
   "cell_type": "code",
   "execution_count": 9,
   "metadata": {},
   "outputs": [],
   "source": [
    "ds=encoding_features(ds)"
   ]
  },
  {
   "cell_type": "code",
   "execution_count": 10,
   "metadata": {},
   "outputs": [],
   "source": [
    "from sklearn.metrics import accuracy_score\n",
    "from sklearn.linear_model import LogisticRegression\n",
    "from sklearn.model_selection import train_test_split\n",
    "train, test=train_test_split(ds, test_size=0.2, random_state=1)"
   ]
  },
  {
   "cell_type": "code",
   "execution_count": 11,
   "metadata": {},
   "outputs": [
    {
     "data": {
      "text/plain": [
       "Gender               0\n",
       "Married              0\n",
       "Dependents           0\n",
       "Education            0\n",
       "Self_Employed        0\n",
       "ApplicantIncome      0\n",
       "CoapplicantIncome    0\n",
       "LoanAmount           0\n",
       "Loan_Amount_Term     0\n",
       "Credit_History       0\n",
       "Property_Area        0\n",
       "Loan_Status          0\n",
       "dtype: int64"
      ]
     },
     "execution_count": 11,
     "metadata": {},
     "output_type": "execute_result"
    }
   ],
   "source": [
    "ds.isnull().sum()"
   ]
  },
  {
   "cell_type": "code",
   "execution_count": 12,
   "metadata": {},
   "outputs": [],
   "source": [
    "from sklearn.preprocessing import LabelEncoder\n",
    "label=LabelEncoder()\n",
    "train['Education']=label.fit_transform(train['Education'])\n",
    "test['Education']=label.fit_transform(test['Education'])"
   ]
  },
  {
   "cell_type": "code",
   "execution_count": 13,
   "metadata": {},
   "outputs": [],
   "source": [
    "def data_splitting(df):\n",
    "    x=ds.drop(['Loan_Status'], axis=1)\n",
    "    y=ds['Loan_Status']\n",
    "    return x, y\n",
    "\n",
    "x_train, y_train=data_splitting(train)\n",
    "x_test, y_test=data_splitting(test)\n"
   ]
  },
  {
   "cell_type": "code",
   "execution_count": 14,
   "metadata": {},
   "outputs": [
    {
     "name": "stdout",
     "output_type": "stream",
     "text": [
      "0.8110749185667753\n"
     ]
    }
   ],
   "source": [
    "log_model=LogisticRegression()\n",
    "log_model.fit(x_train, y_train)\n",
    "prediction=log_model.predict(x_test)\n",
    "score= accuracy_score(y_test, prediction)\n",
    "print(score)"
   ]
  },
  {
   "cell_type": "code",
   "execution_count": 15,
   "metadata": {},
   "outputs": [
    {
     "name": "stdout",
     "output_type": "stream",
     "text": [
      "0.8110749185667753\n"
     ]
    }
   ],
   "source": [
    "log_learning=log_model.predict(x_train)\n",
    "learning_score=accuracy_score(y_train, log_learning)\n",
    "print(learning_score)\n"
   ]
  },
  {
   "cell_type": "code",
   "execution_count": 16,
   "metadata": {},
   "outputs": [
    {
     "data": {
      "text/plain": [
       "array([0.25236166, 0.74763834])"
      ]
     },
     "execution_count": 16,
     "metadata": {},
     "output_type": "execute_result"
    }
   ],
   "source": [
    "proba=log_model.predict_proba(x_test)\n",
    "proba[5]\n"
   ]
  },
  {
   "cell_type": "code",
   "execution_count": 17,
   "metadata": {},
   "outputs": [
    {
     "data": {
      "text/plain": [
       "'Y'"
      ]
     },
     "execution_count": 17,
     "metadata": {},
     "output_type": "execute_result"
    }
   ],
   "source": [
    "prediction[6]"
   ]
  }
 ],
 "metadata": {
  "kernelspec": {
   "display_name": "Python 3",
   "language": "python",
   "name": "python3"
  },
  "language_info": {
   "codemirror_mode": {
    "name": "ipython",
    "version": 3
   },
   "file_extension": ".py",
   "mimetype": "text/x-python",
   "name": "python",
   "nbconvert_exporter": "python",
   "pygments_lexer": "ipython3",
   "version": "3.6.8"
  }
 },
 "nbformat": 4,
 "nbformat_minor": 2
}
